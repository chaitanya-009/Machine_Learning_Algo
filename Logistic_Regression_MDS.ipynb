{
  "nbformat": 4,
  "nbformat_minor": 0,
  "metadata": {
    "colab": {
      "provenance": []
    },
    "kernelspec": {
      "name": "python3",
      "display_name": "Python 3"
    },
    "language_info": {
      "name": "python"
    }
  },
  "cells": [
    {
      "cell_type": "code",
      "source": [
        "import numpy as np\n",
        "from sklearn.datasets import load_breast_cancer\n",
        "from sklearn.model_selection import train_test_split\n",
        "from sklearn.metrics import accuracy_score\n",
        "\n",
        "def sigmoid(z):\n",
        "    \"\"\"Calculates the sigmoid function.\"\"\"\n",
        "    return 1 / (1 + np.exp(-z))\n",
        "\n",
        "def initialize_weights(n_features):\n",
        "    \"\"\"Initializes weights and bias to zeros.\"\"\"\n",
        "    weights = np.zeros(n_features)\n",
        "    bias = 0\n",
        "    return weights, bias\n",
        "\n",
        "def compute_loss(y, y_pred):\n",
        "    \"\"\"Calculates the binary cross-entropy loss.\"\"\"\n",
        "    m = len(y)\n",
        "    loss = -(1 / m) * np.sum(y * np.log(y_pred) + (1 - y) * np.log(1 - y_pred))\n",
        "    return loss\n",
        "\n",
        "def gradient_descent(X, y, weights, bias, learning_rate):\n",
        "    \"\"\"Performs one step of gradient descent.\"\"\"\n",
        "    m = X.shape[0]\n",
        "\n",
        "    # Predictions\n",
        "    linear_model = np.dot(X, weights) + bias\n",
        "    y_pred = sigmoid(linear_model)\n",
        "\n",
        "    # Gradients\n",
        "    dw = (1 / m) * np.dot(X.T, (y_pred - y))\n",
        "    db = (1 / m) * np.sum(y_pred - y)\n",
        "\n",
        "    # Update weights and bias\n",
        "    weights -= learning_rate * dw\n",
        "    bias -= learning_rate * db\n",
        "\n",
        "    return weights, bias\n",
        "\n",
        "def train_logistic_regression(X, y, learning_rate=0.01, num_iterations=1000):\n",
        "    \"\"\"Trains the logistic regression model.\"\"\"\n",
        "    n_features = X.shape[1]\n",
        "    weights, bias = initialize_weights(n_features)\n",
        "\n",
        "    for i in range(num_iterations):\n",
        "        weights, bias = gradient_descent(X, y, weights, bias, learning_rate)\n",
        "\n",
        "        if i % 100 == 0:\n",
        "            linear_model = np.dot(X, weights) + bias\n",
        "            y_pred = sigmoid(linear_model)\n",
        "            loss = compute_loss(y, y_pred)\n",
        "            print(f\"Iteration {i}: Loss = {loss}\")\n",
        "\n",
        "    return weights, bias\n",
        "\n",
        "def predict(X, weights, bias, threshold=0.5):\n",
        "    \"\"\"Makes predictions using the trained model.\"\"\"\n",
        "    linear_model = np.dot(X, weights) + bias\n",
        "    y_pred = sigmoid(linear_model)\n",
        "    return (y_pred >= threshold).astype(int)\n",
        "\n",
        "# Example usage with sample data\n",
        "# Example usage with the breast cancer dataset\n",
        "if __name__ == \"__main__\":  # Correction: Changed _name_ to __name__\n",
        "    # Load the breast cancer dataset\n",
        "    data = load_breast_cancer()\n",
        "    X, y = data.data, data.target\n",
        "\n",
        "    # Split data into training and testing sets\n",
        "    X_train, X_test, y_train, y_test = train_test_split(X, y, test_size=0.2, random_state=42)\n",
        "\n",
        "    # Train logistic regression model\n",
        "    weights, bias = train_logistic_regression(X_train, y_train, learning_rate=0.01, num_iterations=1000)\n",
        "\n",
        "    # Make predictions on the test set\n",
        "    predictions = predict(X_test, weights, bias)\n",
        "    print(\"Predictions: \", predictions)\n",
        "\n",
        "    # Evaluate the model\n",
        "    accuracy = accuracy_score(y_test, predictions)\n",
        "    print(\"Accuracy:\", accuracy)"
      ],
      "metadata": {
        "colab": {
          "base_uri": "https://localhost:8080/"
        },
        "id": "-07EWmpb-KRu",
        "outputId": "dd08b23b-bb61-4e70-9c5b-3928ba8cb7bc"
      },
      "execution_count": 2,
      "outputs": [
        {
          "output_type": "stream",
          "name": "stdout",
          "text": [
            "Iteration 0: Loss = nan\n",
            "Iteration 100: Loss = nan\n",
            "Iteration 200: Loss = nan\n",
            "Iteration 300: Loss = nan\n",
            "Iteration 400: Loss = nan\n",
            "Iteration 500: Loss = nan\n",
            "Iteration 600: Loss = nan\n",
            "Iteration 700: Loss = nan\n",
            "Iteration 800: Loss = nan\n",
            "Iteration 900: Loss = nan\n",
            "Predictions:  [0 0 0 1 1 0 0 0 1 1 1 0 1 0 1 0 1 1 1 0 0 1 0 1 1 1 1 1 1 0 1 1 1 0 1 1 0\n",
            " 1 0 0 1 0 1 1 1 1 1 1 1 1 0 0 1 1 1 1 1 0 0 1 1 0 0 1 1 1 0 0 1 1 0 0 1 0\n",
            " 1 1 1 0 1 1 0 1 0 0 0 0 0 0 1 1 1 0 0 1 1 1 0 0 1 0 0 1 0 0 1 1 1 0 1 0 0\n",
            " 1 1 0]\n",
            "Accuracy: 0.9473684210526315\n"
          ]
        },
        {
          "output_type": "stream",
          "name": "stderr",
          "text": [
            "<ipython-input-2-3090049a1ac9>:8: RuntimeWarning: overflow encountered in exp\n",
            "  return 1 / (1 + np.exp(-z))\n",
            "<ipython-input-2-3090049a1ac9>:19: RuntimeWarning: divide by zero encountered in log\n",
            "  loss = -(1 / m) * np.sum(y * np.log(y_pred) + (1 - y) * np.log(1 - y_pred))\n",
            "<ipython-input-2-3090049a1ac9>:19: RuntimeWarning: invalid value encountered in multiply\n",
            "  loss = -(1 / m) * np.sum(y * np.log(y_pred) + (1 - y) * np.log(1 - y_pred))\n"
          ]
        }
      ]
    },
    {
      "cell_type": "code",
      "source": [],
      "metadata": {
        "id": "2QsjhWzx-LVV"
      },
      "execution_count": null,
      "outputs": []
    }
  ]
}